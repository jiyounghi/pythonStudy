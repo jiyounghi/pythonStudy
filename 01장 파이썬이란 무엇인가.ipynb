{
 "cells": [
  {
   "cell_type": "markdown",
   "id": "8a723527",
   "metadata": {},
   "source": [
    "점프 투 파이썬 책으로 공부한 내용입니다 -- "
   ]
  },
  {
   "cell_type": "markdown",
   "id": "1e835157",
   "metadata": {},
   "source": [
    "#  파이썬이란 무엇인가?"
   ]
  },
  {
   "cell_type": "markdown",
   "id": "9e6c6537",
   "metadata": {},
   "source": [
    "## 파이썬이란?\n",
    "- 파이썬은 1990년 암스테르담의 귀도 반 로섬이 개발한 인터프리터 언어이다. \n",
    "- 인터프리터 언어란 한 줄씩 코드를 해석해서 그때그때 실행해 결과를 바로 확인할 수 있는 언어이다. \n",
    "    - vs 컴파일 언어 : 명령들을 다 모아놓고 한 번에 실행하는 방식 (규모가 클땐 이게 더 빠르지만 컴파일 과정에선 시간이 많이 걸리고 메모리도 많이 차지함) "
   ]
  },
  {
   "cell_type": "markdown",
   "id": "c5116bcc",
   "metadata": {},
   "source": [
    "## 파이썬의 특징\n",
    "- 파이썬은 무료이지만 강력하다 \n",
    "    - 시스템 프로그래밍이나 하드웨어 제어와 같은 복잡하고 반복 연산이 많은 프로그램은 파이썬과 어울리지 않는데\n",
    "    - 이는 다른 언어로 만든 프로그램을 파이썬 프로그램에 포함 시킬 수 있어서 상관이 없다. \n",
    "    - 파이썬과 C는 최고의 조합이다. 뼈대는 파이썬으로, 빠른 실행 속도가 필요한 부분은 C로 만들어서 파이썬 프로그램 안에 포함시킨다. \n",
    "    - 파이썬 라이브러리는 순수 파이썬으로 제작된 것 외에 C로 만든 것도 많다. \n",
    "        - 라이브러리란 프로그램을 작성할 때 불러와 사용할 수 있는 미리 만들어 놓은 파일 모음이다! \n",
    "- 파이썬은 개발 속도가 빠르다.\n",
    "    - \"Life is too short, You need python.\" (인생은 너무 짧으니 파이썬이 필요해.)"
   ]
  },
  {
   "cell_type": "markdown",
   "id": "6b1917d6",
   "metadata": {},
   "source": [
    "## 파이썬으로 무엇을 할 수 있을까?\n",
    "- 할 수 있는 일 \n",
    "    - 시스템 유틸리티 제작 (사용에 도움 주는 여러 소프트웨어)\n",
    "    - GUI 프로그래밍 \n",
    "    - C/C++와의 결합 \n",
    "    - 웹 프로그래밍\n",
    "    - 수치 연산 프로그래밍 (NumPy)\n",
    "    - 데이터베이스 프로그래밍 (사이베이스(Sybase), 인포믹스(Infomix), 오라클(Oracle), 마이에스큐엘(MySQL), 포스트그레스큐엘(PostgreSQL))\n",
    "    - 데이터 분석 (Pandas)\n",
    "    - 사물 인터넷 (라즈베리 파이) \n",
    "- 할 수 없는 일 \n",
    "    - 시스템과 밀접한 프로그래밍 영역 \n",
    "        - 운영체제, 엄청난 횟수의 반복과 연산이 필요한 프로그램, 데이터 압축 알고리즘 개발 프로그램 \n",
    "        - 대단히 빠른 속도를 요구하거나 하드웨어를 직접 건드려야 하는 프로그램\n",
    "    - 모바일 프로그래밍"
   ]
  },
  {
   "attachments": {
    "image.png": {
     "image/png": "[encoded data removed]"
    }
   },
   "cell_type": "markdown",
   "id": "e58e0468",
   "metadata": {},
   "source": [
    "## 파이썬 둘러보기 \n",
    "![image.png](attachment:image.png)\n",
    "- 위와 같은 창은 파이썬 대화형 인터프리터이다. (= Python shell)\n",
    "- (>>>) : 프롬프트 \n",
    "- 인터프리터란 사용자가 입력한 소스코드를 실행하는 환경이고 \n",
    "- 대화형이란 입력에 따라 결과값이 바로 출력된다는 뜻이다. "
   ]
  },
  {
   "cell_type": "markdown",
   "id": "913d1442",
   "metadata": {},
   "source": [
    "## 파이썬과 에디터 \n",
    "- 에디터란 소스 코드를 편집할 수 있는 프로그래밍 툴 \n",
    "- 저자 추천 에디터 \n",
    "    - VS code \n",
    "    - 파이참 "
   ]
  }
 ],
 "metadata": {
  "kernelspec": {
   "display_name": "Python 3 (ipykernel)",
   "language": "python",
   "name": "python3"
  },
  "language_info": {
   "codemirror_mode": {
    "name": "ipython",
    "version": 3
   },
   "file_extension": ".py",
   "mimetype": "text/x-python",
   "name": "python",
   "nbconvert_exporter": "python",
   "pygments_lexer": "ipython3",
   "version": "3.9.12"
  },
  "toc": {
   "base_numbering": 1,
   "nav_menu": {},
   "number_sections": true,
   "sideBar": true,
   "skip_h1_title": false,
   "title_cell": "Table of Contents",
   "title_sidebar": "Contents",
   "toc_cell": false,
   "toc_position": {},
   "toc_section_display": true,
   "toc_window_display": false
  }
 },
 "nbformat": 4,
 "nbformat_minor": 5
}
