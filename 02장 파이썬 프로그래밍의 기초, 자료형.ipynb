{
 "cells": [
  {
   "cell_type": "markdown",
   "id": "5b1d1e0c",
   "metadata": {},
   "source": [
    " 파이썬 프로그래밍의 기초, 자료형\n",
    "- 자료형이란 프로그래밍을 할 때 쓰이는 숫자, 문자열 등 자료 형태로 사용하는 모든 것 "
   ]
  },
  {
   "cell_type": "markdown",
   "id": "4ab470c0",
   "metadata": {},
   "source": [
    "# 숫자형 \n",
    "- 종류\n",
    "    - 정수\n",
    "    - 실수\n",
    "    - 8진수 / 16진수\n",
    "- 활용 연산자 \n",
    "    - + , - , *, /\n",
    "    - ** : 제곱 \n",
    "    - % : 나눗셈 후 나머지 반환 \n",
    "    - // : 나눗셈 후 몫 반환 "
   ]
  },
  {
   "cell_type": "markdown",
   "id": "acb8279c",
   "metadata": {},
   "source": [
    "# 문자열 "
   ]
  },
  {
   "cell_type": "markdown",
   "id": "a972c357",
   "metadata": {},
   "source": [
    "## 문자열 만드는 방법"
   ]
  },
  {
   "cell_type": "code",
   "execution_count": null,
   "id": "6abe5601",
   "metadata": {},
   "outputs": [],
   "source": [
    "# 문자열 만드는 방법 \n",
    "\"Hello World\"\n",
    "'Python is fun'\n",
    "\"\"\"Life is too short, You need python\"\"\"\n",
    "'''Life is too short, You need python'''"
   ]
  },
  {
   "cell_type": "markdown",
   "id": "f1cac720",
   "metadata": {},
   "source": [
    "## 문자열 안에 작은따옴표나 큰따옴표를 포함시키고 싶을 때 "
   ]
  },
  {
   "cell_type": "markdown",
   "id": "ac4c91c5",
   "metadata": {},
   "source": [
    "### 문자열 안에 작은따옴표(') 포함시키기 "
   ]
  },
  {
   "cell_type": "code",
   "execution_count": 3,
   "id": "f8488928",
   "metadata": {},
   "outputs": [
    {
     "data": {
      "text/plain": [
       "\"Python's favorite food is perl\""
      ]
     },
     "execution_count": 3,
     "metadata": {},
     "output_type": "execute_result"
    }
   ],
   "source": [
    "food = \"Python's favorite food is perl\"\n",
    "food"
   ]
  },
  {
   "cell_type": "code",
   "execution_count": 4,
   "id": "6225f640",
   "metadata": {},
   "outputs": [
    {
     "ename": "SyntaxError",
     "evalue": "invalid syntax (3264339671.py, line 1)",
     "output_type": "error",
     "traceback": [
      "\u001b[1;36m  Input \u001b[1;32mIn [4]\u001b[1;36m\u001b[0m\n\u001b[1;33m    food = 'Python's favorite food is perl'\u001b[0m\n\u001b[1;37m                   ^\u001b[0m\n\u001b[1;31mSyntaxError\u001b[0m\u001b[1;31m:\u001b[0m invalid syntax\n"
     ]
    }
   ],
   "source": [
    "food = 'Python's favorite food is perl'"
   ]
  },
  {
   "cell_type": "markdown",
   "id": "826d8d08",
   "metadata": {},
   "source": [
    "### 문자열에 큰따옴표(\") 포함시키기"
   ]
  },
  {
   "cell_type": "code",
   "execution_count": 5,
   "id": "a8d8b949",
   "metadata": {},
   "outputs": [
    {
     "data": {
      "text/plain": [
       "'\"Python is very easy.\" he says.'"
      ]
     },
     "execution_count": 5,
     "metadata": {},
     "output_type": "execute_result"
    }
   ],
   "source": [
    "say = '\"Python is very easy.\" he says.'\n",
    "say"
   ]
  },
  {
   "cell_type": "markdown",
   "id": "ba483598",
   "metadata": {},
   "source": [
    "### 백슬래시(\\)를 사용해서 작은따옴표(')와 큰따옴표(\")를 문자열에 포함시키기 \n",
    "- 백슬래시를 따옴표 앞에 삽입하면 \n",
    "- 백슬래시 뒤의 작은 따옴표나 큰따옴표는 문자열을 둘러싸는 기호의 의미가 아니라 \n",
    "- 문자 ('), (\") 그 자체를 뜻한다. "
   ]
  },
  {
   "cell_type": "code",
   "execution_count": 6,
   "id": "d26bf4e7",
   "metadata": {},
   "outputs": [
    {
     "data": {
      "text/plain": [
       "\"Python's favorite food is perl\""
      ]
     },
     "execution_count": 6,
     "metadata": {},
     "output_type": "execute_result"
    }
   ],
   "source": [
    "food = 'Python\\'s favorite food is perl'\n",
    "food "
   ]
  },
  {
   "cell_type": "code",
   "execution_count": 7,
   "id": "0698d039",
   "metadata": {},
   "outputs": [
    {
     "data": {
      "text/plain": [
       "'\"Python is very easy.\"he says.'"
      ]
     },
     "execution_count": 7,
     "metadata": {},
     "output_type": "execute_result"
    }
   ],
   "source": [
    "say = \"\\\"Python is very easy.\\\"he says.\"\n",
    "say"
   ]
  },
  {
   "cell_type": "markdown",
   "id": "4807f25c",
   "metadata": {},
   "source": [
    "## 여러 줄인 문자열을 변수에 대입하고 싶을 때 "
   ]
  },
  {
   "cell_type": "markdown",
   "id": "f516b6fd",
   "metadata": {},
   "source": [
    "### 줄을 바꾸기 위한 이스케이프 코드 \\n 삽입"
   ]
  },
  {
   "cell_type": "code",
   "execution_count": 9,
   "id": "694de705",
   "metadata": {},
   "outputs": [
    {
     "name": "stdout",
     "output_type": "stream",
     "text": [
      "Life is too short\n",
      "You need python\n"
     ]
    }
   ],
   "source": [
    "multiline = \"Life is too short\\nYou need python\"\n",
    "print(multiline)"
   ]
  },
  {
   "cell_type": "markdown",
   "id": "81d53f12",
   "metadata": {},
   "source": [
    "### 연속된 작은 따옴표 3개(''') 또는 큰따옴표 3개(\"\"\") 사용하기 \n",
    "- 연속된 따옴표 3개는 주석을 의미한다고 배웠는데 주석이랑 헷갈리지 말기 ! "
   ]
  },
  {
   "cell_type": "code",
   "execution_count": 15,
   "id": "ff77ce07",
   "metadata": {},
   "outputs": [
    {
     "name": "stdout",
     "output_type": "stream",
     "text": [
      "Life is too short \n",
      "You need python\n"
     ]
    }
   ],
   "source": [
    "multiline2 = '''Life is too short \n",
    "You need python'''\n",
    "print(multiline2)"
   ]
  },
  {
   "cell_type": "code",
   "execution_count": 12,
   "id": "40260ec5",
   "metadata": {},
   "outputs": [
    {
     "name": "stdout",
     "output_type": "stream",
     "text": [
      "\n",
      "    Life is too short \n",
      "    You need python\n",
      "\n"
     ]
    }
   ],
   "source": [
    "multiline3 = \"\"\"\n",
    "    Life is too short \n",
    "    You need python\n",
    "\"\"\"\n",
    "print(multiline3)"
   ]
  }
 ],
 "metadata": {
  "kernelspec": {
   "display_name": "Python 3 (ipykernel)",
   "language": "python",
   "name": "python3"
  },
  "language_info": {
   "codemirror_mode": {
    "name": "ipython",
    "version": 3
   },
   "file_extension": ".py",
   "mimetype": "text/x-python",
   "name": "python",
   "nbconvert_exporter": "python",
   "pygments_lexer": "ipython3",
   "version": "3.9.12"
  },
  "toc": {
   "base_numbering": 1,
   "nav_menu": {},
   "number_sections": true,
   "sideBar": true,
   "skip_h1_title": false,
   "title_cell": "Table of Contents",
   "title_sidebar": "Contents",
   "toc_cell": false,
   "toc_position": {},
   "toc_section_display": true,
   "toc_window_display": false
  }
 },
 "nbformat": 4,
 "nbformat_minor": 5
}
